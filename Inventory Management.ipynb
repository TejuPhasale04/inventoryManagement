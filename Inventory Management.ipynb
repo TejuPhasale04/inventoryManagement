{
 "cells": [
  {
   "cell_type": "code",
   "execution_count": 4,
   "id": "03b6f3c8-b90b-4253-9b6b-8ce29e59cfc7",
   "metadata": {},
   "outputs": [],
   "source": [
    "fd=open(\"Inventory.txt\",'r')\n",
    "products=fd.read().split('\\n')\n",
    "fd.close()"
   ]
  },
  {
   "cell_type": "code",
   "execution_count": 5,
   "id": "ad6f8466-d684-42dd-8e97-6f1c7c6b94e4",
   "metadata": {},
   "outputs": [
    {
     "name": "stdout",
     "output_type": "stream",
     "text": [
      "1,'5 star',5,100\n",
      "2,'IceCream',10,23\n",
      "3,'DairyMilk',10,34\n",
      "4,'cake',100,56\n",
      "5,'canndy',5,60\n"
     ]
    }
   ],
   "source": [
    "for product in products:\n",
    "    print(product)"
   ]
  },
  {
   "cell_type": "code",
   "execution_count": null,
   "id": "5ee5432c-acb7-46c3-85dc-f59d50a7ad0e",
   "metadata": {},
   "outputs": [],
   "source": [
    "UI_ProductID = input(\"Enter a Product Id: \")\n",
    "UI_ProductQn = input(\"Enter a Product Quantity: \")\n",
    "\n",
    "for product in products:\n",
    "    product_detail = product.split(',')\n",
    "\n",
    "    if product_detail[0] == UI_ProductID:\n",
    "        print(\"Product ID:\", product_detail[0])\n",
    "        print(\"Product Name:\", product_detail[1])\n",
    "        print(\"Product Price:\", product_detail[2])\n",
    "        print(\"Quantity:\", UI_ProductQn)\n",
    "        billing_amount = int(UI_ProductQn) * int(product_detail[2])\n",
    "        print(\"Billing Amount:\", billing_amount)"
   ]
  },
  {
   "cell_type": "code",
   "execution_count": null,
   "id": "d5590b51-85ee-424d-a9e9-38fbb2f7b876",
   "metadata": {},
   "outputs": [],
   "source": []
  }
 ],
 "metadata": {
  "kernelspec": {
   "display_name": "Python 3 (ipykernel)",
   "language": "python",
   "name": "python3"
  },
  "language_info": {
   "codemirror_mode": {
    "name": "ipython",
    "version": 3
   },
   "file_extension": ".py",
   "mimetype": "text/x-python",
   "name": "python",
   "nbconvert_exporter": "python",
   "pygments_lexer": "ipython3",
   "version": "3.11.7"
  }
 },
 "nbformat": 4,
 "nbformat_minor": 5
}
